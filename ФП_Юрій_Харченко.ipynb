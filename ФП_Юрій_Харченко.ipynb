{
  "nbformat": 4,
  "nbformat_minor": 0,
  "metadata": {
    "colab": {
      "provenance": [],
      "toc_visible": true,
      "authorship_tag": "ABX9TyN536VJ7DshMSvk9nXS3zZe",
      "include_colab_link": true
    },
    "kernelspec": {
      "name": "python3",
      "display_name": "Python 3"
    },
    "language_info": {
      "name": "python"
    }
  },
  "cells": [
    {
      "cell_type": "markdown",
      "metadata": {
        "id": "view-in-github",
        "colab_type": "text"
      },
      "source": [
        "<a href=\"https://colab.research.google.com/github/youryharchenko/goit-algo-fp/blob/main/%D0%A4%D0%9F_%D0%AE%D1%80%D1%96%D0%B9_%D0%A5%D0%B0%D1%80%D1%87%D0%B5%D0%BD%D0%BA%D0%BE.ipynb\" target=\"_parent\"><img src=\"https://colab.research.google.com/assets/colab-badge.svg\" alt=\"Open In Colab\"/></a>"
      ]
    },
    {
      "cell_type": "markdown",
      "source": [
        "# Фiнальний проєкт"
      ],
      "metadata": {
        "id": "J6o-T9yIF7Kc"
      }
    },
    {
      "cell_type": "markdown",
      "source": [
        "## Завдання 1. Структури даних. Сортування. Робота з однозв'язним списком"
      ],
      "metadata": {
        "id": "N3GWVfWuGAEU"
      }
    },
    {
      "cell_type": "markdown",
      "source": [
        "### Реалізація однозв'язного списку"
      ],
      "metadata": {
        "id": "8GSiLbGgHkXt"
      }
    },
    {
      "cell_type": "code",
      "execution_count": 263,
      "metadata": {
        "id": "bO3Bv002FQxZ"
      },
      "outputs": [],
      "source": [
        "class LList():\n",
        "\n",
        "    def __init__(self, value=None):\n",
        "        match value:\n",
        "            case None | []:\n",
        "                self.pair = None\n",
        "                self.len = 0\n",
        "            case tuple((_, _)):\n",
        "                self.pair = value\n",
        "                self.len = 1\n",
        "            case list([*items]):\n",
        "                self.pair = self.make_llist(items)\n",
        "                self.len = len(items)\n",
        "            case _:\n",
        "                raise ValueError(\"value must be list or None\" )\n",
        "\n",
        "    def make_llist(self, items):\n",
        "        l = len(items)\n",
        "        if l > 0:\n",
        "            current = None\n",
        "            for i in range(l, 0, -1):\n",
        "                next = (items[i-1], current)\n",
        "                current = next\n",
        "            return current\n",
        "        else:\n",
        "            return None\n",
        "\n",
        "    def cons(self, item):\n",
        "        self.pair = (item, self.pair)\n",
        "        self.len += 1\n",
        "        return self\n",
        "\n",
        "    def first(self):\n",
        "        if self.pair is not None:\n",
        "            return self.pair[0]\n",
        "        else:\n",
        "            return None\n",
        "\n",
        "    def pop(self):\n",
        "        if self.pair is not None:\n",
        "            value = self.pair[0]\n",
        "            self.pair = self.pair[1]\n",
        "            self.len -= 1\n",
        "            return value\n",
        "        else:\n",
        "            return None\n",
        "\n",
        "    def tail(self):\n",
        "        if self.pair:\n",
        "            return LList(self.pair[1])\n",
        "        else:\n",
        "            return LList()\n",
        "\n",
        "    def to_plist(self):\n",
        "        plist = []\n",
        "        current = self.pair\n",
        "        while current is not None:\n",
        "            plist.append(current[0])\n",
        "            current = current[1]\n",
        "        return plist\n",
        "\n",
        "    # Цей метод створює новий список із зворотнім порядком елементів\n",
        "    def reverse_new(self):\n",
        "        result = LList()\n",
        "        current = self.pair\n",
        "        while current is not None:\n",
        "            result.cons(current[0])\n",
        "            current = current[1]\n",
        "        return result\n",
        "\n",
        "    # Цей метод робить зворотній порядок елементів по місцю, змінюючи посилання між вузлами\n",
        "    def reverse_inplace(self):\n",
        "        current = self.pair\n",
        "        prior = None\n",
        "        while current is not None:\n",
        "            prior = (current[0], prior)\n",
        "            current = current[1]\n",
        "        self.pair = prior\n",
        "\n",
        "\n",
        "    # Цей метод повертає новий відсортований список\n",
        "    def insertion_sort(self):\n",
        "        sorted, unsorted = LList(), LList(self.to_plist())\n",
        "\n",
        "        while unsorted.len > 0:\n",
        "            rev = LList()\n",
        "\n",
        "            key = unsorted.pop()\n",
        "            current = sorted.pair\n",
        "            while current is not None:\n",
        "                if key is not None and key < current[0]:\n",
        "                    break\n",
        "                else:\n",
        "                    rev.cons(current[0])\n",
        "                current = current[1]\n",
        "\n",
        "            next = (key, current)\n",
        "            rev_current = rev.pair\n",
        "            while rev_current is not None:\n",
        "                next = (rev_current[0], next)\n",
        "                rev_current = rev_current[1]\n",
        "\n",
        "            sorted.pair = next\n",
        "            sorted.len += 1\n",
        "\n",
        "        return sorted\n",
        "\n",
        "    # Цей метод зливає два відсоротованих списки в новий відсортований список\n",
        "    def merge(self, llist):\n",
        "        left = LList(self.to_plist())\n",
        "        right = LList(llist.to_plist())\n",
        "        merged = LList()\n",
        "\n",
        "\n",
        "        while left.len > 0 and right.len > 0 :\n",
        "            left_first = left.first()\n",
        "            right_first =  right.first()\n",
        "            if left_first is not None and right_first is not None:\n",
        "                if left_first <= right_first:\n",
        "                    merged.cons(left.pop())\n",
        "                else:\n",
        "                    merged.cons(right.pop())\n",
        "\n",
        "        while left.len > 0:\n",
        "            merged.cons(left.pop())\n",
        "\n",
        "        while right.len > 0:\n",
        "            merged.cons(right.pop())\n",
        "\n",
        "        merged.reverse_inplace()\n",
        "        return merged\n",
        "\n",
        "\n",
        "    def __repr__(self):\n",
        "        return f\"{self.pair}\""
      ]
    },
    {
      "cell_type": "markdown",
      "source": [
        "### Реверс однозв'язного списку"
      ],
      "metadata": {
        "id": "yj1L_MGq84Fn"
      }
    },
    {
      "cell_type": "markdown",
      "source": [
        "Реверс однозв'язного списку створюючи новий"
      ],
      "metadata": {
        "id": "ri51edbn1p46"
      }
    },
    {
      "cell_type": "code",
      "source": [
        "linked_list = LList([i for i in range(11)])\n",
        "linked_list.to_plist()\n"
      ],
      "metadata": {
        "colab": {
          "base_uri": "https://localhost:8080/"
        },
        "id": "Kilo2uq5yman",
        "outputId": "e1a5e942-7913-4d69-eb45-7ddef1f15a48"
      },
      "execution_count": 264,
      "outputs": [
        {
          "output_type": "execute_result",
          "data": {
            "text/plain": [
              "[0, 1, 2, 3, 4, 5, 6, 7, 8, 9, 10]"
            ]
          },
          "metadata": {},
          "execution_count": 264
        }
      ]
    },
    {
      "cell_type": "code",
      "source": [
        "linked_list.reverse_new().to_plist()"
      ],
      "metadata": {
        "colab": {
          "base_uri": "https://localhost:8080/"
        },
        "id": "J3qtUJRbz7qq",
        "outputId": "d5a0cdb9-9eb9-40a1-a159-40fe574ab605"
      },
      "execution_count": 265,
      "outputs": [
        {
          "output_type": "execute_result",
          "data": {
            "text/plain": [
              "[10, 9, 8, 7, 6, 5, 4, 3, 2, 1, 0]"
            ]
          },
          "metadata": {},
          "execution_count": 265
        }
      ]
    },
    {
      "cell_type": "markdown",
      "source": [
        "Реверс однозв'язного списку по місцю, міняючи напрям посилань"
      ],
      "metadata": {
        "id": "TXmKTmPq8SFD"
      }
    },
    {
      "cell_type": "code",
      "source": [
        "linked_list.reverse_inplace()\n",
        "linked_list.to_plist()"
      ],
      "metadata": {
        "colab": {
          "base_uri": "https://localhost:8080/"
        },
        "id": "tR1iFp2Z8AUt",
        "outputId": "5b1f6e44-a9c5-4ee5-8ff5-1323491ab9b1"
      },
      "execution_count": 266,
      "outputs": [
        {
          "output_type": "execute_result",
          "data": {
            "text/plain": [
              "[10, 9, 8, 7, 6, 5, 4, 3, 2, 1, 0]"
            ]
          },
          "metadata": {},
          "execution_count": 266
        }
      ]
    },
    {
      "cell_type": "markdown",
      "source": [
        "### Сортування однозв'язного списку методом вставки"
      ],
      "metadata": {
        "id": "FrmBcRld9IZ5"
      }
    },
    {
      "cell_type": "markdown",
      "source": [
        "Створюється новий список"
      ],
      "metadata": {
        "id": "YAMqH9H1dNk7"
      }
    },
    {
      "cell_type": "code",
      "source": [
        "import random\n",
        "linked_list = LList(random.sample(range(11), 11))\n",
        "linked_list.to_plist()"
      ],
      "metadata": {
        "colab": {
          "base_uri": "https://localhost:8080/"
        },
        "id": "k3wEVYjbdYQQ",
        "outputId": "b0aa4607-b01b-40e3-ab12-e7bb5d646c05"
      },
      "execution_count": 267,
      "outputs": [
        {
          "output_type": "execute_result",
          "data": {
            "text/plain": [
              "[3, 10, 9, 8, 7, 5, 2, 1, 4, 6, 0]"
            ]
          },
          "metadata": {},
          "execution_count": 267
        }
      ]
    },
    {
      "cell_type": "code",
      "source": [
        "linked_list.insertion_sort().to_plist()"
      ],
      "metadata": {
        "colab": {
          "base_uri": "https://localhost:8080/"
        },
        "id": "jeCFC0NN9agm",
        "outputId": "7ade71fc-86e6-4aa9-8190-c5bff1677479"
      },
      "execution_count": 268,
      "outputs": [
        {
          "output_type": "execute_result",
          "data": {
            "text/plain": [
              "[0, 1, 2, 3, 4, 5, 6, 7, 8, 9, 10]"
            ]
          },
          "metadata": {},
          "execution_count": 268
        }
      ]
    },
    {
      "cell_type": "markdown",
      "source": [
        "### Об'єднання двох відсортованих однозв'язних списка в один відсортований список"
      ],
      "metadata": {
        "id": "6wZUKY6mo2D5"
      }
    },
    {
      "cell_type": "code",
      "source": [
        "left_list = LList(random.sample(range(11), 11))\n",
        "right_list = LList(random.sample(range(11), 11))"
      ],
      "metadata": {
        "id": "l3Zl_2p5lfn3"
      },
      "execution_count": 269,
      "outputs": []
    },
    {
      "cell_type": "code",
      "source": [
        "left_list.to_plist()"
      ],
      "metadata": {
        "colab": {
          "base_uri": "https://localhost:8080/"
        },
        "id": "rPca732LnVEL",
        "outputId": "a64f35c6-bd84-4406-dc62-8c19efe77c15"
      },
      "execution_count": 270,
      "outputs": [
        {
          "output_type": "execute_result",
          "data": {
            "text/plain": [
              "[5, 10, 3, 6, 0, 7, 1, 4, 8, 2, 9]"
            ]
          },
          "metadata": {},
          "execution_count": 270
        }
      ]
    },
    {
      "cell_type": "code",
      "source": [
        "right_list.to_plist()"
      ],
      "metadata": {
        "colab": {
          "base_uri": "https://localhost:8080/"
        },
        "id": "JOM1NvbXnaVC",
        "outputId": "64f1371a-5240-462b-a3f6-ac3139cc7299"
      },
      "execution_count": 271,
      "outputs": [
        {
          "output_type": "execute_result",
          "data": {
            "text/plain": [
              "[3, 1, 0, 4, 2, 8, 9, 10, 5, 7, 6]"
            ]
          },
          "metadata": {},
          "execution_count": 271
        }
      ]
    },
    {
      "cell_type": "code",
      "source": [
        "left_list.insertion_sort().merge(right_list.insertion_sort()).to_plist()"
      ],
      "metadata": {
        "colab": {
          "base_uri": "https://localhost:8080/"
        },
        "id": "wko1t1-TmGyI",
        "outputId": "56e14650-3ba4-4faa-bff7-69434d68cc96"
      },
      "execution_count": 272,
      "outputs": [
        {
          "output_type": "execute_result",
          "data": {
            "text/plain": [
              "[0, 0, 1, 1, 2, 2, 3, 3, 4, 4, 5, 5, 6, 6, 7, 7, 8, 8, 9, 9, 10, 10]"
            ]
          },
          "metadata": {},
          "execution_count": 272
        }
      ]
    },
    {
      "cell_type": "markdown",
      "source": [
        "## Завдання 2. Рекурсія. Створення фрактала “дерево Піфагора” за допомогою рекурсії"
      ],
      "metadata": {
        "id": "GGEvciXWGN1k"
      }
    },
    {
      "cell_type": "code",
      "source": [
        "!pip install ColabTurtle"
      ],
      "metadata": {
        "id": "kb9uWeOoGWFd",
        "colab": {
          "base_uri": "https://localhost:8080/"
        },
        "outputId": "6f527841-16bd-4716-a897-237207ee6735"
      },
      "execution_count": 273,
      "outputs": [
        {
          "output_type": "stream",
          "name": "stdout",
          "text": [
            "Requirement already satisfied: ColabTurtle in /usr/local/lib/python3.12/dist-packages (2.1.0)\n"
          ]
        }
      ]
    },
    {
      "cell_type": "markdown",
      "source": [
        "До малювання додано трохи прикрашання та випадковості"
      ],
      "metadata": {
        "id": "UiOi8xbPLk3U"
      }
    },
    {
      "cell_type": "code",
      "source": [
        "from ColabTurtle.Turtle import *\n",
        "\n",
        "def tree(branchLen, deep=6):\n",
        "    if deep == 0:\n",
        "        return\n",
        "\n",
        "    save_color = pencolor()\n",
        "    save_size = pensize()\n",
        "\n",
        "    color((0, int((0.15+(0.75**deep))*255), 0))\n",
        "    pensize(int(10*deep*0.75))\n",
        "\n",
        "    forward(branchLen)\n",
        "    right(20)\n",
        "\n",
        "    k = random.gauss(0, branchLen/4)\n",
        "\n",
        "    tree(int(branchLen * 0.75 + k), deep-1)\n",
        "\n",
        "    left(40)\n",
        "\n",
        "    tree(int(branchLen*0.75 + k), deep-1)\n",
        "\n",
        "    right(20)\n",
        "    backward(branchLen)\n",
        "\n",
        "    color(save_color)\n",
        "    pensize(save_size)\n"
      ],
      "metadata": {
        "id": "DzKsfpC2C9p-"
      },
      "execution_count": 274,
      "outputs": []
    },
    {
      "cell_type": "code",
      "source": [
        "# Глибина рекурсії N\n",
        "N = 6\n",
        "\n",
        "initializeTurtle()\n",
        "\n",
        "speed(12)\n",
        "\n",
        "color((0, int(0.15*255), 0))\n",
        "pensize(10)\n",
        "\n",
        "#left(90)\n",
        "up()\n",
        "backward(100)\n",
        "down()\n",
        "\n",
        "tree(100, N)"
      ],
      "metadata": {
        "colab": {
          "base_uri": "https://localhost:8080/",
          "height": 521
        },
        "id": "lvIgJGwXDK2m",
        "outputId": "b525e38a-d77b-4cb5-ed8e-2935d9d7fb7f"
      },
      "execution_count": 311,
      "outputs": [
        {
          "output_type": "display_data",
          "data": {
            "text/plain": [
              "<IPython.core.display.HTML object>"
            ],
            "text/html": [
              "\n",
              "      <svg width=\"800\" height=\"500\">\n",
              "        <rect width=\"100%\" height=\"100%\" fill=\"black\"/>\n",
              "        <line x1=\"400.0\" y1=\"350.0\" x2=\"400.0\" y2=\"250.0\" stroke-linecap=\"round\" style=\"stroke:rgb(0,83,0);stroke-width:45\"/><line x1=\"400.0\" y1=\"250.0\" x2=\"419.495\" y2=\"196.438\" stroke-linecap=\"round\" style=\"stroke:rgb(0,98,0);stroke-width:37\"/><line x1=\"419.495\" y1=\"196.438\" x2=\"455.491\" y2=\"153.54\" stroke-linecap=\"round\" style=\"stroke:rgb(0,118,0);stroke-width:30\"/><line x1=\"455.491\" y1=\"153.54\" x2=\"492.73\" y2=\"132.04\" stroke-linecap=\"round\" style=\"stroke:rgb(0,145,0);stroke-width:22\"/><line x1=\"492.73\" y1=\"132.04\" x2=\"525.229\" y2=\"126.31\" stroke-linecap=\"round\" style=\"stroke:rgb(0,181,0);stroke-width:15\"/><line x1=\"525.229\" y1=\"126.31\" x2=\"549.849\" y2=\"130.651\" stroke-linecap=\"round\" style=\"stroke:rgb(0,229,0);stroke-width:7\"/><line x1=\"549.849\" y1=\"130.651\" x2=\"525.229\" y2=\"126.31\" stroke-linecap=\"round\" style=\"stroke:rgb(0,229,0);stroke-width:7\"/><line x1=\"525.229\" y1=\"126.31\" x2=\"546.88\" y2=\"113.81\" stroke-linecap=\"round\" style=\"stroke:rgb(0,229,0);stroke-width:7\"/><line x1=\"546.88\" y1=\"113.81\" x2=\"525.229\" y2=\"126.31\" stroke-linecap=\"round\" style=\"stroke:rgb(0,229,0);stroke-width:7\"/><line x1=\"525.229\" y1=\"126.31\" x2=\"492.73\" y2=\"132.04\" stroke-linecap=\"round\" style=\"stroke:rgb(0,181,0);stroke-width:15\"/><line x1=\"492.73\" y1=\"132.04\" x2=\"513.942\" y2=\"106.761\" stroke-linecap=\"round\" style=\"stroke:rgb(0,181,0);stroke-width:15\"/><line x1=\"513.942\" y1=\"106.761\" x2=\"534.727\" y2=\"94.761\" stroke-linecap=\"round\" style=\"stroke:rgb(0,229,0);stroke-width:7\"/><line x1=\"534.727\" y1=\"94.761\" x2=\"513.942\" y2=\"106.761\" stroke-linecap=\"round\" style=\"stroke:rgb(0,229,0);stroke-width:7\"/><line x1=\"513.942\" y1=\"106.761\" x2=\"522.15\" y2=\"84.208\" stroke-linecap=\"round\" style=\"stroke:rgb(0,229,0);stroke-width:7\"/><line x1=\"522.15\" y1=\"84.208\" x2=\"513.942\" y2=\"106.761\" stroke-linecap=\"round\" style=\"stroke:rgb(0,229,0);stroke-width:7\"/><line x1=\"513.942\" y1=\"106.761\" x2=\"492.73\" y2=\"132.04\" stroke-linecap=\"round\" style=\"stroke:rgb(0,181,0);stroke-width:15\"/><line x1=\"492.73\" y1=\"132.04\" x2=\"455.491\" y2=\"153.54\" stroke-linecap=\"round\" style=\"stroke:rgb(0,145,0);stroke-width:22\"/><line x1=\"455.491\" y1=\"153.54\" x2=\"470.198\" y2=\"113.133\" stroke-linecap=\"round\" style=\"stroke:rgb(0,145,0);stroke-width:22\"/><line x1=\"470.198\" y1=\"113.133\" x2=\"486.91\" y2=\"93.216\" stroke-linecap=\"round\" style=\"stroke:rgb(0,181,0);stroke-width:15\"/><line x1=\"486.91\" y1=\"93.216\" x2=\"501.632\" y2=\"84.716\" stroke-linecap=\"round\" style=\"stroke:rgb(0,229,0);stroke-width:7\"/><line x1=\"501.632\" y1=\"84.716\" x2=\"486.91\" y2=\"93.216\" stroke-linecap=\"round\" style=\"stroke:rgb(0,229,0);stroke-width:7\"/><line x1=\"486.91\" y1=\"93.216\" x2=\"492.724\" y2=\"77.241\" stroke-linecap=\"round\" style=\"stroke:rgb(0,229,0);stroke-width:7\"/><line x1=\"492.724\" y1=\"77.241\" x2=\"486.91\" y2=\"93.216\" stroke-linecap=\"round\" style=\"stroke:rgb(0,229,0);stroke-width:7\"/><line x1=\"486.91\" y1=\"93.216\" x2=\"470.198\" y2=\"113.133\" stroke-linecap=\"round\" style=\"stroke:rgb(0,181,0);stroke-width:15\"/><line x1=\"470.198\" y1=\"113.133\" x2=\"470.198\" y2=\"87.133\" stroke-linecap=\"round\" style=\"stroke:rgb(0,181,0);stroke-width:15\"/><line x1=\"470.198\" y1=\"87.133\" x2=\"476.354\" y2=\"70.219\" stroke-linecap=\"round\" style=\"stroke:rgb(0,229,0);stroke-width:7\"/><line x1=\"476.354\" y1=\"70.219\" x2=\"470.198\" y2=\"87.133\" stroke-linecap=\"round\" style=\"stroke:rgb(0,229,0);stroke-width:7\"/><line x1=\"470.198\" y1=\"87.133\" x2=\"464.042\" y2=\"70.219\" stroke-linecap=\"round\" style=\"stroke:rgb(0,229,0);stroke-width:7\"/><line x1=\"464.042\" y1=\"70.219\" x2=\"470.198\" y2=\"87.133\" stroke-linecap=\"round\" style=\"stroke:rgb(0,229,0);stroke-width:7\"/><line x1=\"470.198\" y1=\"87.133\" x2=\"470.198\" y2=\"113.133\" stroke-linecap=\"round\" style=\"stroke:rgb(0,181,0);stroke-width:15\"/><line x1=\"470.198\" y1=\"113.133\" x2=\"455.491\" y2=\"153.54\" stroke-linecap=\"round\" style=\"stroke:rgb(0,145,0);stroke-width:22\"/><line x1=\"455.491\" y1=\"153.54\" x2=\"419.495\" y2=\"196.438\" stroke-linecap=\"round\" style=\"stroke:rgb(0,118,0);stroke-width:30\"/><line x1=\"419.495\" y1=\"196.438\" x2=\"419.495\" y2=\"140.438\" stroke-linecap=\"round\" style=\"stroke:rgb(0,118,0);stroke-width:30\"/><line x1=\"419.495\" y1=\"140.438\" x2=\"436.938\" y2=\"92.514\" stroke-linecap=\"round\" style=\"stroke:rgb(0,145,0);stroke-width:22\"/><line x1=\"436.938\" y1=\"92.514\" x2=\"453.008\" y2=\"73.363\" stroke-linecap=\"round\" style=\"stroke:rgb(0,181,0);stroke-width:15\"/><line x1=\"453.008\" y1=\"73.363\" x2=\"462.534\" y2=\"67.863\" stroke-linecap=\"round\" style=\"stroke:rgb(0,229,0);stroke-width:7\"/><line x1=\"462.534\" y1=\"67.863\" x2=\"453.008\" y2=\"73.363\" stroke-linecap=\"round\" style=\"stroke:rgb(0,229,0);stroke-width:7\"/><line x1=\"453.008\" y1=\"73.363\" x2=\"456.77\" y2=\"63.026\" stroke-linecap=\"round\" style=\"stroke:rgb(0,229,0);stroke-width:7\"/><line x1=\"456.77\" y1=\"63.026\" x2=\"453.008\" y2=\"73.363\" stroke-linecap=\"round\" style=\"stroke:rgb(0,229,0);stroke-width:7\"/><line x1=\"453.008\" y1=\"73.363\" x2=\"436.938\" y2=\"92.514\" stroke-linecap=\"round\" style=\"stroke:rgb(0,181,0);stroke-width:15\"/><line x1=\"436.938\" y1=\"92.514\" x2=\"436.938\" y2=\"67.514\" stroke-linecap=\"round\" style=\"stroke:rgb(0,181,0);stroke-width:15\"/><line x1=\"436.938\" y1=\"67.514\" x2=\"444.462\" y2=\"46.841\" stroke-linecap=\"round\" style=\"stroke:rgb(0,229,0);stroke-width:7\"/><line x1=\"444.462\" y1=\"46.841\" x2=\"436.938\" y2=\"67.514\" stroke-linecap=\"round\" style=\"stroke:rgb(0,229,0);stroke-width:7\"/><line x1=\"436.938\" y1=\"67.514\" x2=\"429.414\" y2=\"46.841\" stroke-linecap=\"round\" style=\"stroke:rgb(0,229,0);stroke-width:7\"/><line x1=\"429.414\" y1=\"46.841\" x2=\"436.938\" y2=\"67.514\" stroke-linecap=\"round\" style=\"stroke:rgb(0,229,0);stroke-width:7\"/><line x1=\"436.938\" y1=\"67.514\" x2=\"436.938\" y2=\"92.514\" stroke-linecap=\"round\" style=\"stroke:rgb(0,181,0);stroke-width:15\"/><line x1=\"436.938\" y1=\"92.514\" x2=\"419.495\" y2=\"140.438\" stroke-linecap=\"round\" style=\"stroke:rgb(0,145,0);stroke-width:22\"/><line x1=\"419.495\" y1=\"140.438\" x2=\"402.052\" y2=\"92.514\" stroke-linecap=\"round\" style=\"stroke:rgb(0,145,0);stroke-width:22\"/><line x1=\"402.052\" y1=\"92.514\" x2=\"402.052\" y2=\"38.514\" stroke-linecap=\"round\" style=\"stroke:rgb(0,181,0);stroke-width:15\"/><line x1=\"402.052\" y1=\"38.514\" x2=\"411.971\" y2=\"11.263\" stroke-linecap=\"round\" style=\"stroke:rgb(0,229,0);stroke-width:7\"/><line x1=\"411.971\" y1=\"11.263\" x2=\"402.052\" y2=\"38.514\" stroke-linecap=\"round\" style=\"stroke:rgb(0,229,0);stroke-width:7\"/><line x1=\"402.052\" y1=\"38.514\" x2=\"392.133\" y2=\"11.263\" stroke-linecap=\"round\" style=\"stroke:rgb(0,229,0);stroke-width:7\"/><line x1=\"392.133\" y1=\"11.263\" x2=\"402.052\" y2=\"38.514\" stroke-linecap=\"round\" style=\"stroke:rgb(0,229,0);stroke-width:7\"/><line x1=\"402.052\" y1=\"38.514\" x2=\"402.052\" y2=\"92.514\" stroke-linecap=\"round\" style=\"stroke:rgb(0,181,0);stroke-width:15\"/><line x1=\"402.052\" y1=\"92.514\" x2=\"367.341\" y2=\"51.148\" stroke-linecap=\"round\" style=\"stroke:rgb(0,181,0);stroke-width:15\"/><line x1=\"367.341\" y1=\"51.148\" x2=\"350.924\" y2=\"6.043\" stroke-linecap=\"round\" style=\"stroke:rgb(0,229,0);stroke-width:7\"/><line x1=\"350.924\" y1=\"6.043\" x2=\"367.341\" y2=\"51.148\" stroke-linecap=\"round\" style=\"stroke:rgb(0,229,0);stroke-width:7\"/><line x1=\"367.341\" y1=\"51.148\" x2=\"325.772\" y2=\"27.148\" stroke-linecap=\"round\" style=\"stroke:rgb(0,229,0);stroke-width:7\"/><line x1=\"325.772\" y1=\"27.148\" x2=\"367.341\" y2=\"51.148\" stroke-linecap=\"round\" style=\"stroke:rgb(0,229,0);stroke-width:7\"/><line x1=\"367.341\" y1=\"51.148\" x2=\"402.052\" y2=\"92.514\" stroke-linecap=\"round\" style=\"stroke:rgb(0,181,0);stroke-width:15\"/><line x1=\"402.052\" y1=\"92.514\" x2=\"419.495\" y2=\"140.438\" stroke-linecap=\"round\" style=\"stroke:rgb(0,145,0);stroke-width:22\"/><line x1=\"419.495\" y1=\"140.438\" x2=\"419.495\" y2=\"196.438\" stroke-linecap=\"round\" style=\"stroke:rgb(0,118,0);stroke-width:30\"/><line x1=\"419.495\" y1=\"196.438\" x2=\"400.0\" y2=\"250.0\" stroke-linecap=\"round\" style=\"stroke:rgb(0,98,0);stroke-width:37\"/><line x1=\"400.0\" y1=\"250.0\" x2=\"380.505\" y2=\"196.438\" stroke-linecap=\"round\" style=\"stroke:rgb(0,98,0);stroke-width:37\"/><line x1=\"380.505\" y1=\"196.438\" x2=\"380.505\" y2=\"156.438\" stroke-linecap=\"round\" style=\"stroke:rgb(0,118,0);stroke-width:30\"/><line x1=\"380.505\" y1=\"156.438\" x2=\"389.398\" y2=\"132.006\" stroke-linecap=\"round\" style=\"stroke:rgb(0,145,0);stroke-width:22\"/><line x1=\"389.398\" y1=\"132.006\" x2=\"397.754\" y2=\"122.047\" stroke-linecap=\"round\" style=\"stroke:rgb(0,181,0);stroke-width:15\"/><line x1=\"397.754\" y1=\"122.047\" x2=\"405.548\" y2=\"117.547\" stroke-linecap=\"round\" style=\"stroke:rgb(0,229,0);stroke-width:7\"/><line x1=\"405.548\" y1=\"117.547\" x2=\"397.754\" y2=\"122.047\" stroke-linecap=\"round\" style=\"stroke:rgb(0,229,0);stroke-width:7\"/><line x1=\"397.754\" y1=\"122.047\" x2=\"400.832\" y2=\"113.59\" stroke-linecap=\"round\" style=\"stroke:rgb(0,229,0);stroke-width:7\"/><line x1=\"400.832\" y1=\"113.59\" x2=\"397.754\" y2=\"122.047\" stroke-linecap=\"round\" style=\"stroke:rgb(0,229,0);stroke-width:7\"/><line x1=\"397.754\" y1=\"122.047\" x2=\"389.398\" y2=\"132.006\" stroke-linecap=\"round\" style=\"stroke:rgb(0,181,0);stroke-width:15\"/><line x1=\"389.398\" y1=\"132.006\" x2=\"389.398\" y2=\"119.006\" stroke-linecap=\"round\" style=\"stroke:rgb(0,181,0);stroke-width:15\"/><line x1=\"389.398\" y1=\"119.006\" x2=\"392.818\" y2=\"109.609\" stroke-linecap=\"round\" style=\"stroke:rgb(0,229,0);stroke-width:7\"/><line x1=\"392.818\" y1=\"109.609\" x2=\"389.398\" y2=\"119.006\" stroke-linecap=\"round\" style=\"stroke:rgb(0,229,0);stroke-width:7\"/><line x1=\"389.398\" y1=\"119.006\" x2=\"385.978\" y2=\"109.609\" stroke-linecap=\"round\" style=\"stroke:rgb(0,229,0);stroke-width:7\"/><line x1=\"385.978\" y1=\"109.609\" x2=\"389.398\" y2=\"119.006\" stroke-linecap=\"round\" style=\"stroke:rgb(0,229,0);stroke-width:7\"/><line x1=\"389.398\" y1=\"119.006\" x2=\"389.398\" y2=\"132.006\" stroke-linecap=\"round\" style=\"stroke:rgb(0,181,0);stroke-width:15\"/><line x1=\"389.398\" y1=\"132.006\" x2=\"380.505\" y2=\"156.438\" stroke-linecap=\"round\" style=\"stroke:rgb(0,145,0);stroke-width:22\"/><line x1=\"380.505\" y1=\"156.438\" x2=\"371.612\" y2=\"132.006\" stroke-linecap=\"round\" style=\"stroke:rgb(0,145,0);stroke-width:22\"/><line x1=\"371.612\" y1=\"132.006\" x2=\"371.612\" y2=\"116.006\" stroke-linecap=\"round\" style=\"stroke:rgb(0,181,0);stroke-width:15\"/><line x1=\"371.612\" y1=\"116.006\" x2=\"375.374\" y2=\"105.669\" stroke-linecap=\"round\" style=\"stroke:rgb(0,229,0);stroke-width:7\"/><line x1=\"375.374\" y1=\"105.669\" x2=\"371.612\" y2=\"116.006\" stroke-linecap=\"round\" style=\"stroke:rgb(0,229,0);stroke-width:7\"/><line x1=\"371.612\" y1=\"116.006\" x2=\"367.85\" y2=\"105.669\" stroke-linecap=\"round\" style=\"stroke:rgb(0,229,0);stroke-width:7\"/><line x1=\"367.85\" y1=\"105.669\" x2=\"371.612\" y2=\"116.006\" stroke-linecap=\"round\" style=\"stroke:rgb(0,229,0);stroke-width:7\"/><line x1=\"371.612\" y1=\"116.006\" x2=\"371.612\" y2=\"132.006\" stroke-linecap=\"round\" style=\"stroke:rgb(0,181,0);stroke-width:15\"/><line x1=\"371.612\" y1=\"132.006\" x2=\"361.327\" y2=\"119.749\" stroke-linecap=\"round\" style=\"stroke:rgb(0,181,0);stroke-width:15\"/><line x1=\"361.327\" y1=\"119.749\" x2=\"357.223\" y2=\"108.473\" stroke-linecap=\"round\" style=\"stroke:rgb(0,229,0);stroke-width:7\"/><line x1=\"357.223\" y1=\"108.473\" x2=\"361.327\" y2=\"119.749\" stroke-linecap=\"round\" style=\"stroke:rgb(0,229,0);stroke-width:7\"/><line x1=\"361.327\" y1=\"119.749\" x2=\"350.935\" y2=\"113.749\" stroke-linecap=\"round\" style=\"stroke:rgb(0,229,0);stroke-width:7\"/><line x1=\"350.935\" y1=\"113.749\" x2=\"361.327\" y2=\"119.749\" stroke-linecap=\"round\" style=\"stroke:rgb(0,229,0);stroke-width:7\"/><line x1=\"361.327\" y1=\"119.749\" x2=\"371.612\" y2=\"132.006\" stroke-linecap=\"round\" style=\"stroke:rgb(0,181,0);stroke-width:15\"/><line x1=\"371.612\" y1=\"132.006\" x2=\"380.505\" y2=\"156.438\" stroke-linecap=\"round\" style=\"stroke:rgb(0,145,0);stroke-width:22\"/><line x1=\"380.505\" y1=\"156.438\" x2=\"380.505\" y2=\"196.438\" stroke-linecap=\"round\" style=\"stroke:rgb(0,118,0);stroke-width:30\"/><line x1=\"380.505\" y1=\"196.438\" x2=\"354.793\" y2=\"165.796\" stroke-linecap=\"round\" style=\"stroke:rgb(0,118,0);stroke-width:30\"/><line x1=\"354.793\" y1=\"165.796\" x2=\"343.506\" y2=\"134.786\" stroke-linecap=\"round\" style=\"stroke:rgb(0,145,0);stroke-width:22\"/><line x1=\"343.506\" y1=\"134.786\" x2=\"343.506\" y2=\"104.786\" stroke-linecap=\"round\" style=\"stroke:rgb(0,181,0);stroke-width:15\"/><line x1=\"343.506\" y1=\"104.786\" x2=\"348.636\" y2=\"90.691\" stroke-linecap=\"round\" style=\"stroke:rgb(0,229,0);stroke-width:7\"/><line x1=\"348.636\" y1=\"90.691\" x2=\"343.506\" y2=\"104.786\" stroke-linecap=\"round\" style=\"stroke:rgb(0,229,0);stroke-width:7\"/><line x1=\"343.506\" y1=\"104.786\" x2=\"338.376\" y2=\"90.691\" stroke-linecap=\"round\" style=\"stroke:rgb(0,229,0);stroke-width:7\"/><line x1=\"338.376\" y1=\"90.691\" x2=\"343.506\" y2=\"104.786\" stroke-linecap=\"round\" style=\"stroke:rgb(0,229,0);stroke-width:7\"/><line x1=\"343.506\" y1=\"104.786\" x2=\"343.506\" y2=\"134.786\" stroke-linecap=\"round\" style=\"stroke:rgb(0,181,0);stroke-width:15\"/><line x1=\"343.506\" y1=\"134.786\" x2=\"324.222\" y2=\"111.805\" stroke-linecap=\"round\" style=\"stroke:rgb(0,181,0);stroke-width:15\"/><line x1=\"324.222\" y1=\"111.805\" x2=\"317.724\" y2=\"93.951\" stroke-linecap=\"round\" style=\"stroke:rgb(0,229,0);stroke-width:7\"/><line x1=\"317.724\" y1=\"93.951\" x2=\"324.222\" y2=\"111.805\" stroke-linecap=\"round\" style=\"stroke:rgb(0,229,0);stroke-width:7\"/><line x1=\"324.222\" y1=\"111.805\" x2=\"307.768\" y2=\"102.305\" stroke-linecap=\"round\" style=\"stroke:rgb(0,229,0);stroke-width:7\"/><line x1=\"307.768\" y1=\"102.305\" x2=\"324.222\" y2=\"111.805\" stroke-linecap=\"round\" style=\"stroke:rgb(0,229,0);stroke-width:7\"/><line x1=\"324.222\" y1=\"111.805\" x2=\"343.506\" y2=\"134.786\" stroke-linecap=\"round\" style=\"stroke:rgb(0,181,0);stroke-width:15\"/><line x1=\"343.506\" y1=\"134.786\" x2=\"354.793\" y2=\"165.796\" stroke-linecap=\"round\" style=\"stroke:rgb(0,145,0);stroke-width:22\"/><line x1=\"354.793\" y1=\"165.796\" x2=\"326.214\" y2=\"149.296\" stroke-linecap=\"round\" style=\"stroke:rgb(0,145,0);stroke-width:22\"/><line x1=\"326.214\" y1=\"149.296\" x2=\"318.501\" y2=\"140.103\" stroke-linecap=\"round\" style=\"stroke:rgb(0,181,0);stroke-width:15\"/><line x1=\"318.501\" y1=\"140.103\" x2=\"315.765\" y2=\"132.585\" stroke-linecap=\"round\" style=\"stroke:rgb(0,229,0);stroke-width:7\"/><line x1=\"315.765\" y1=\"132.585\" x2=\"318.501\" y2=\"140.103\" stroke-linecap=\"round\" style=\"stroke:rgb(0,229,0);stroke-width:7\"/><line x1=\"318.501\" y1=\"140.103\" x2=\"311.573\" y2=\"136.103\" stroke-linecap=\"round\" style=\"stroke:rgb(0,229,0);stroke-width:7\"/><line x1=\"311.573\" y1=\"136.103\" x2=\"318.501\" y2=\"140.103\" stroke-linecap=\"round\" style=\"stroke:rgb(0,229,0);stroke-width:7\"/><line x1=\"318.501\" y1=\"140.103\" x2=\"326.214\" y2=\"149.296\" stroke-linecap=\"round\" style=\"stroke:rgb(0,181,0);stroke-width:15\"/><line x1=\"326.214\" y1=\"149.296\" x2=\"314.396\" y2=\"147.212\" stroke-linecap=\"round\" style=\"stroke:rgb(0,181,0);stroke-width:15\"/><line x1=\"314.396\" y1=\"147.212\" x2=\"308.334\" y2=\"143.712\" stroke-linecap=\"round\" style=\"stroke:rgb(0,229,0);stroke-width:7\"/><line x1=\"308.334\" y1=\"143.712\" x2=\"314.396\" y2=\"147.212\" stroke-linecap=\"round\" style=\"stroke:rgb(0,229,0);stroke-width:7\"/><line x1=\"314.396\" y1=\"147.212\" x2=\"307.502\" y2=\"148.428\" stroke-linecap=\"round\" style=\"stroke:rgb(0,229,0);stroke-width:7\"/><line x1=\"307.502\" y1=\"148.428\" x2=\"314.396\" y2=\"147.212\" stroke-linecap=\"round\" style=\"stroke:rgb(0,229,0);stroke-width:7\"/><line x1=\"314.396\" y1=\"147.212\" x2=\"326.214\" y2=\"149.296\" stroke-linecap=\"round\" style=\"stroke:rgb(0,181,0);stroke-width:15\"/><line x1=\"326.214\" y1=\"149.296\" x2=\"354.793\" y2=\"165.796\" stroke-linecap=\"round\" style=\"stroke:rgb(0,145,0);stroke-width:22\"/><line x1=\"354.793\" y1=\"165.796\" x2=\"380.505\" y2=\"196.438\" stroke-linecap=\"round\" style=\"stroke:rgb(0,118,0);stroke-width:30\"/><line x1=\"380.505\" y1=\"196.438\" x2=\"400.0\" y2=\"250.0\" stroke-linecap=\"round\" style=\"stroke:rgb(0,98,0);stroke-width:37\"/><line x1=\"400.0\" y1=\"250.0\" x2=\"400.0\" y2=\"350.0\" stroke-linecap=\"round\" style=\"stroke:rgb(0,83,0);stroke-width:45\"/>\n",
              "        <g visibility=visible transform=\"rotate(360,400.0,350.0) translate(382.0, 332.0)\">\n",
              "<path style=\" stroke:none;fill-rule:evenodd;fill:rgb(0,38,0);fill-opacity:1;\" d=\"M 18.214844 0.632812 C 16.109375 1.800781 15.011719 4.074219 15.074219 7.132812 L 15.085938 7.652344 L 14.785156 7.496094 C 13.476562 6.824219 11.957031 6.671875 10.40625 7.066406 C 8.46875 7.550781 6.515625 9.15625 4.394531 11.992188 C 3.0625 13.777344 2.679688 14.636719 3.042969 15.027344 L 3.15625 15.152344 L 3.519531 15.152344 C 4.238281 15.152344 4.828125 14.886719 8.1875 13.039062 C 9.386719 12.378906 10.371094 11.839844 10.378906 11.839844 C 10.386719 11.839844 10.355469 11.929688 10.304688 12.035156 C 9.832031 13.09375 9.257812 14.820312 8.96875 16.078125 C 7.914062 20.652344 8.617188 24.53125 11.070312 27.660156 C 11.351562 28.015625 11.363281 27.914062 10.972656 28.382812 C 8.925781 30.84375 7.945312 33.28125 8.238281 35.1875 C 8.289062 35.527344 8.28125 35.523438 8.917969 35.523438 C 10.941406 35.523438 13.074219 34.207031 15.136719 31.6875 C 15.359375 31.417969 15.328125 31.425781 15.5625 31.574219 C 16.292969 32.042969 18.023438 32.964844 18.175781 32.964844 C 18.335938 32.964844 19.941406 32.210938 20.828125 31.71875 C 20.996094 31.625 21.136719 31.554688 21.136719 31.558594 C 21.203125 31.664062 21.898438 32.414062 22.222656 32.730469 C 23.835938 34.300781 25.5625 35.132812 27.582031 35.300781 C 27.90625 35.328125 27.9375 35.308594 28.007812 34.984375 C 28.382812 33.242188 27.625 30.925781 25.863281 28.425781 L 25.542969 27.96875 L 25.699219 27.785156 C 28.945312 23.960938 29.132812 18.699219 26.257812 11.96875 L 26.207031 11.84375 L 27.945312 12.703125 C 31.53125 14.476562 32.316406 14.800781 33.03125 14.800781 C 33.976562 14.800781 33.78125 13.9375 32.472656 12.292969 C 28.519531 7.355469 25.394531 5.925781 21.921875 7.472656 L 21.558594 7.636719 L 21.578125 7.542969 C 21.699219 6.992188 21.761719 5.742188 21.699219 5.164062 C 21.496094 3.296875 20.664062 1.964844 19.003906 0.855469 C 18.480469 0.503906 18.457031 0.5 18.214844 0.632812\"/>\n",
              "</g>\n",
              "      </svg>\n",
              "    "
            ]
          },
          "metadata": {}
        }
      ]
    },
    {
      "cell_type": "markdown",
      "source": [
        "## Завдання 3. Дерева, алгоритм Дейкстри"
      ],
      "metadata": {
        "id": "Lit-YG0KGWc9"
      }
    },
    {
      "cell_type": "markdown",
      "source": [
        "### Реалізація алгоритма Дейкстри"
      ],
      "metadata": {
        "id": "nNS2TWsA1QDA"
      }
    },
    {
      "cell_type": "code",
      "source": [
        "import heapq\n",
        "\n",
        "def dijkstra(graph, start_node):\n",
        "    distances = {node: float('inf') for node in graph}\n",
        "    distances[start_node] = 0\n",
        "    priority_queue = [(0, start_node)] # (distance, node)\n",
        "\n",
        "    while priority_queue:\n",
        "        current_distance, current_node = heapq.heappop(priority_queue)\n",
        "\n",
        "        if current_distance > distances[current_node]:\n",
        "            continue\n",
        "\n",
        "        for neighbor in graph[current_node].items():\n",
        "            weight = neighbor[1]['weight']\n",
        "            new_distance = current_distance + weight\n",
        "            if new_distance < distances[neighbor[0]]:\n",
        "                distances[neighbor[0]] = new_distance\n",
        "                heapq.heappush(priority_queue, (new_distance, neighbor[0]))\n",
        "\n",
        "    return distances"
      ],
      "metadata": {
        "id": "peku3uq3Gegm"
      },
      "execution_count": 276,
      "outputs": []
    },
    {
      "cell_type": "markdown",
      "source": [
        "### Граф для роботи"
      ],
      "metadata": {
        "id": "Sat8h4_1CaI3"
      }
    },
    {
      "cell_type": "code",
      "source": [
        "graph = {\n",
        "    'A': {'B': {'weight': 1}, 'C': {'weight': 4}, 'F': {'weight': 7}},\n",
        "    'B': {'A': {'weight': 1}, 'D': {'weight': 2}, 'E': {'weight': 5}},\n",
        "    'C': {'A': {'weight': 4}, 'F': {'weight': 3}},\n",
        "    'D': {'B': {'weight': 2}, 'E': {'weight': 1}},\n",
        "    'E': {'B': {'weight': 5}, 'D': {'weight': 1}, 'F': {'weight': 2}},\n",
        "    'F': {'A': {'weight': 7}, 'C': {'weight': 3}, 'E': {'weight': 2}}\n",
        "}\n",
        "\n"
      ],
      "metadata": {
        "id": "z8Unq1uAcuYr"
      },
      "execution_count": 277,
      "outputs": []
    },
    {
      "cell_type": "code",
      "source": [
        "import networkx as nx\n",
        "import matplotlib.pyplot as plt"
      ],
      "metadata": {
        "id": "ufJeNdkGdf8t"
      },
      "execution_count": 278,
      "outputs": []
    },
    {
      "cell_type": "code",
      "source": [
        "G = nx.Graph(graph)"
      ],
      "metadata": {
        "id": "C6ywyej2diZs"
      },
      "execution_count": 279,
      "outputs": []
    },
    {
      "cell_type": "code",
      "source": [
        "nx.get_edge_attributes(G, 'weight')"
      ],
      "metadata": {
        "colab": {
          "base_uri": "https://localhost:8080/"
        },
        "id": "HYlFRzZgkzyW",
        "outputId": "c63f750c-60f7-492c-d553-65d6967f5236"
      },
      "execution_count": 280,
      "outputs": [
        {
          "output_type": "execute_result",
          "data": {
            "text/plain": [
              "{('A', 'B'): 1,\n",
              " ('A', 'C'): 4,\n",
              " ('A', 'F'): 7,\n",
              " ('B', 'D'): 2,\n",
              " ('B', 'E'): 5,\n",
              " ('C', 'F'): 3,\n",
              " ('D', 'E'): 1,\n",
              " ('E', 'F'): 2}"
            ]
          },
          "metadata": {},
          "execution_count": 280
        }
      ]
    },
    {
      "cell_type": "code",
      "source": [
        "pos = nx.planar_layout(G)\n",
        "\n",
        "nx.draw(G, with_labels=True)\n",
        "#edge_labels = nx.get_edge_attributes(G, 'weight')\n",
        "#nx.draw_networkx_edge_labels(G, pos, edge_labels=edge_labels)\n",
        "plt.show()"
      ],
      "metadata": {
        "colab": {
          "base_uri": "https://localhost:8080/",
          "height": 516
        },
        "id": "Shbk-wP5gB6z",
        "outputId": "a7abbe1a-c6b0-4fd5-9ab8-320cccfa1604"
      },
      "execution_count": 281,
      "outputs": [
        {
          "output_type": "display_data",
          "data": {
            "text/plain": [
              "<Figure size 640x480 with 1 Axes>"
            ],
            "image/png": "[encoded data removed]"
          },
          "metadata": {}
        }
      ]
    },
    {
      "cell_type": "markdown",
      "source": [
        "### Пошук найкоротших шляхів"
      ],
      "metadata": {
        "id": "Qpt9SHiQCip5"
      }
    },
    {
      "cell_type": "markdown",
      "source": [
        "Наш варіант функції"
      ],
      "metadata": {
        "id": "C9YBe9fJ1yvi"
      }
    },
    {
      "cell_type": "code",
      "source": [
        "start_node = 'A'\n",
        "shortest_paths = dijkstra(graph, start_node)\n",
        "shortest_paths"
      ],
      "metadata": {
        "colab": {
          "base_uri": "https://localhost:8080/"
        },
        "id": "XvDhKMpnrclM",
        "outputId": "1c8930e6-886a-4524-d1b1-46d956e6e42b"
      },
      "execution_count": 282,
      "outputs": [
        {
          "output_type": "execute_result",
          "data": {
            "text/plain": [
              "{'A': 0, 'B': 1, 'C': 4, 'D': 3, 'E': 4, 'F': 6}"
            ]
          },
          "metadata": {},
          "execution_count": 282
        }
      ]
    },
    {
      "cell_type": "markdown",
      "source": [
        "Порівняємо з бібліотечним"
      ],
      "metadata": {
        "id": "9bpds62C16Jn"
      }
    },
    {
      "cell_type": "code",
      "source": [
        "list(nx.all_pairs_dijkstra_path_length(G))[0]"
      ],
      "metadata": {
        "colab": {
          "base_uri": "https://localhost:8080/"
        },
        "id": "ME4cASuK0LXU",
        "outputId": "36195267-689a-49f4-8111-756fb50d626e"
      },
      "execution_count": 283,
      "outputs": [
        {
          "output_type": "execute_result",
          "data": {
            "text/plain": [
              "('A', {'A': 0, 'B': 1, 'D': 3, 'C': 4, 'E': 4, 'F': 6})"
            ]
          },
          "metadata": {},
          "execution_count": 283
        }
      ]
    },
    {
      "cell_type": "code",
      "source": [
        "nx.dijkstra_path(G, 'A', 'E')"
      ],
      "metadata": {
        "colab": {
          "base_uri": "https://localhost:8080/"
        },
        "id": "kp5vuzzDzDUN",
        "outputId": "89cc1550-42b0-41bb-8af3-a5461617dce9"
      },
      "execution_count": 284,
      "outputs": [
        {
          "output_type": "execute_result",
          "data": {
            "text/plain": [
              "['A', 'B', 'D', 'E']"
            ]
          },
          "metadata": {},
          "execution_count": 284
        }
      ]
    },
    {
      "cell_type": "markdown",
      "source": [
        "### Висновок"
      ],
      "metadata": {
        "id": "TDEU31bNWmv2"
      }
    },
    {
      "cell_type": "markdown",
      "source": [
        "Результати між нашою реалізацією і пакетною збігаються"
      ],
      "metadata": {
        "id": "6nPN_w_iW4on"
      }
    },
    {
      "cell_type": "markdown",
      "source": [
        "## Завдання 4. Візуалізація піраміди"
      ],
      "metadata": {
        "id": "bcFDxLEQGe1G"
      }
    },
    {
      "cell_type": "markdown",
      "source": [
        "### Розбір коду візуалізації дерева"
      ],
      "metadata": {
        "id": "bhR3MH9te2Ed"
      }
    },
    {
      "cell_type": "code",
      "source": [
        "import uuid"
      ],
      "metadata": {
        "id": "5PYL5YBvGmbW"
      },
      "execution_count": 285,
      "outputs": []
    },
    {
      "cell_type": "code",
      "source": [
        "class Node:\n",
        "  def __init__(self, key, color=\"skyblue\"):\n",
        "    self.left = None\n",
        "    self.right = None\n",
        "    self.val = key\n",
        "    self.color = color\n",
        "    self.id = str(uuid.uuid4())\n",
        "\n",
        "  def __repr__(self):\n",
        "    return f\"Node(id={self.id}, val={self.val}, color={self.color})\""
      ],
      "metadata": {
        "id": "o5uz_bHCAzjA"
      },
      "execution_count": 286,
      "outputs": []
    },
    {
      "cell_type": "code",
      "source": [
        "def add_edges(graph, node, pos, x=0, y=0, layer=1):\n",
        "  if node is not None:\n",
        "    graph.add_node(node.id, color=node.color, label=node.val)\n",
        "    if node.left:\n",
        "      graph.add_edge(node.id, node.left.id)\n",
        "      l = x - 1 / 2 ** layer\n",
        "      pos[node.left.id] = (l, y - 1)\n",
        "      l = add_edges(graph, node.left, pos, x=l, y=y - 1, layer=layer + 1)\n",
        "    if node.right:\n",
        "      graph.add_edge(node.id, node.right.id)\n",
        "      r = x + 1 / 2 ** layer\n",
        "      pos[node.right.id] = (r, y - 1)\n",
        "      r = add_edges(graph, node.right, pos, x=r, y=y - 1, layer=layer + 1)\n",
        "\n",
        "  return graph"
      ],
      "metadata": {
        "id": "zFw4Zn88A_WO"
      },
      "execution_count": 287,
      "outputs": []
    },
    {
      "cell_type": "code",
      "source": [
        "def draw_tree(tree_root):\n",
        "  tree = nx.DiGraph()\n",
        "  pos = {tree_root.id: (0, 0)}\n",
        "  tree = add_edges(tree, tree_root, pos)\n",
        "\n",
        "  colors = [node[1]['color'] for node in tree.nodes(data=True)]\n",
        "  labels = {node[0]: node[1]['label'] for node in tree.nodes(data=True)}\n",
        "\n",
        "  plt.figure(figsize=(8, 5))\n",
        "  nx.draw(tree, pos=pos, labels=labels, arrows=False, node_size=2500, node_color=colors)\n",
        "  plt.show()"
      ],
      "metadata": {
        "id": "AXU2L5v1BUTN"
      },
      "execution_count": 288,
      "outputs": []
    },
    {
      "cell_type": "code",
      "source": [
        "# Створення дерева\n",
        "root = Node(0)\n",
        "root.left = Node(4)\n",
        "root.left.left = Node(5)\n",
        "root.left.right = Node(10)\n",
        "root.right = Node(1)\n",
        "root.right.left = Node(3)\n",
        "\n",
        "# Відображення дерева\n",
        "draw_tree(root)"
      ],
      "metadata": {
        "colab": {
          "base_uri": "https://localhost:8080/",
          "height": 536
        },
        "id": "VMy1WRkWBj7F",
        "outputId": "0f66fb55-4423-4743-c866-21a4de46441c"
      },
      "execution_count": 289,
      "outputs": [
        {
          "output_type": "display_data",
          "data": {
            "text/plain": [
              "<Figure size 800x500 with 1 Axes>"
            ],
            "image/png": "[encoded data removed]"
          },
          "metadata": {}
        }
      ]
    },
    {
      "cell_type": "markdown",
      "source": [
        "### Візуалізація купи як дерева"
      ],
      "metadata": {
        "id": "wQ-NuD6He_jF"
      }
    },
    {
      "cell_type": "code",
      "source": [
        "import queue\n",
        "\n",
        "def visualize_heap(heap):\n",
        "  #print(heap)\n",
        "  heapq.heapify(heap)\n",
        "  #print(heap)\n",
        "  q = queue.Queue()\n",
        "\n",
        "  if len(heap):\n",
        "    root = Node(heapq.heappop(heap))\n",
        "    q.put(root)\n",
        "  else:\n",
        "    raise ValueError(\"List is empty\")\n",
        "\n",
        "  while not q.empty():\n",
        "    current = q.get()\n",
        "    if len(heap):\n",
        "      current.left = Node(heapq.heappop(heap))\n",
        "      q.put(current.left)\n",
        "    if len(heap):\n",
        "      current.right = Node(heapq.heappop(heap))\n",
        "      q.put(current.right)\n",
        "\n",
        "  return root\n"
      ],
      "metadata": {
        "id": "GiL3o8_iIgsq"
      },
      "execution_count": 290,
      "outputs": []
    },
    {
      "cell_type": "code",
      "source": [
        "root_heap = visualize_heap(random.sample(range(-12, 0), 12))\n",
        "draw_tree(root_heap)\n",
        "\n"
      ],
      "metadata": {
        "colab": {
          "base_uri": "https://localhost:8080/",
          "height": 536
        },
        "id": "lqoaRUJhCIhP",
        "outputId": "4d773931-9292-4640-895b-202dc8bdb860"
      },
      "execution_count": 291,
      "outputs": [
        {
          "output_type": "display_data",
          "data": {
            "text/plain": [
              "<Figure size 800x500 with 1 Axes>"
            ],
            "image/png": "[encoded data removed]"
          },
          "metadata": {}
        }
      ]
    },
    {
      "cell_type": "markdown",
      "source": [
        "## Завдання 5. Візуалізація обходу бінарного дерева"
      ],
      "metadata": {
        "id": "XoPCvn-GGm4a"
      }
    },
    {
      "cell_type": "markdown",
      "source": [
        "### Створення дерева"
      ],
      "metadata": {
        "id": "bSIz0HYNwTiE"
      }
    },
    {
      "cell_type": "code",
      "source": [
        "def make_tree(lst):\n",
        "  q = queue.Queue()\n",
        "  color = \"#0000FF\"\n",
        "\n",
        "  if len(lst):\n",
        "    root = Node(lst.pop(), color=color)\n",
        "    q.put(root)\n",
        "  else:\n",
        "    raise ValueError(\"List is empty\")\n",
        "\n",
        "  while not q.empty():\n",
        "    current = q.get()\n",
        "    if len(lst):\n",
        "      current.left = Node(lst.pop(), color=color)\n",
        "      q.put(current.left)\n",
        "    if len(lst):\n",
        "      current.right = Node(lst.pop(), color=color)\n",
        "      q.put(current.right)\n",
        "\n",
        "  return root\n",
        "\n"
      ],
      "metadata": {
        "id": "to4yDVEBnKYH"
      },
      "execution_count": 292,
      "outputs": []
    },
    {
      "cell_type": "markdown",
      "source": [
        "### Обхід дерева в глибину"
      ],
      "metadata": {
        "id": "KorMOb-hwekR"
      }
    },
    {
      "cell_type": "code",
      "source": [
        "def deep_walk(root):\n",
        "  r = 0\n",
        "  g = 0\n",
        "\n",
        "  st = []\n",
        "  st.append(root)\n",
        "  while len(st):\n",
        "    current = st.pop()\n",
        "    current.color = f\"#{r:02x}{g:02x}FF\"\n",
        "\n",
        "    if current.right is not None:\n",
        "      st.append(current.right)\n",
        "\n",
        "    if current.left is not None:\n",
        "      st.append(current.left)\n",
        "\n",
        "    r += 20\n",
        "    g += 20\n",
        "\n"
      ],
      "metadata": {
        "id": "uMg6t4vmGv_f"
      },
      "execution_count": 293,
      "outputs": []
    },
    {
      "cell_type": "code",
      "source": [
        "root_deep = make_tree(random.sample(range(12), 12))\n",
        "deep_walk(root_deep)\n",
        "draw_tree(root_deep)"
      ],
      "metadata": {
        "colab": {
          "base_uri": "https://localhost:8080/",
          "height": 536
        },
        "id": "Dy4GRY96lDkF",
        "outputId": "afdfabc3-9344-4ab3-c7be-07a7a88fce6f"
      },
      "execution_count": 294,
      "outputs": [
        {
          "output_type": "display_data",
          "data": {
            "text/plain": [
              "<Figure size 800x500 with 1 Axes>"
            ],
            "image/png": "[encoded data removed]"
          },
          "metadata": {}
        }
      ]
    },
    {
      "cell_type": "markdown",
      "source": [
        "### Обхід дерева в ширину"
      ],
      "metadata": {
        "id": "sWLq_8BEwj4E"
      }
    },
    {
      "cell_type": "code",
      "source": [
        "def bread_walk(root):\n",
        "  r = 0\n",
        "  g = 0\n",
        "\n",
        "  q = queue.Queue()\n",
        "  q.put(root)\n",
        "  while not q.empty():\n",
        "    current = q.get()\n",
        "    current.color = f\"#{r:02x}{g:02x}FF\"\n",
        "\n",
        "    if current.left is not None:\n",
        "      q.put(current.left)\n",
        "\n",
        "    if current.right is not None:\n",
        "      q.put(current.right)\n",
        "\n",
        "\n",
        "\n",
        "    r += 20\n",
        "    g += 20\n",
        "\n"
      ],
      "metadata": {
        "id": "wD_OINTqvWoW"
      },
      "execution_count": 295,
      "outputs": []
    },
    {
      "cell_type": "code",
      "source": [
        "root_bread = make_tree(random.sample(range(12), 12))\n",
        "bread_walk(root_bread)\n",
        "draw_tree(root_bread)"
      ],
      "metadata": {
        "colab": {
          "base_uri": "https://localhost:8080/",
          "height": 536
        },
        "id": "xpiwR5mBwB57",
        "outputId": "10aaa1d9-1070-4d07-8ad0-18ea5de85c80"
      },
      "execution_count": 296,
      "outputs": [
        {
          "output_type": "display_data",
          "data": {
            "text/plain": [
              "<Figure size 800x500 with 1 Axes>"
            ],
            "image/png": "[encoded data removed]"
          },
          "metadata": {}
        }
      ]
    },
    {
      "cell_type": "markdown",
      "source": [
        "## Завдання 6. Жадібні алгоритми та динамічне програмування"
      ],
      "metadata": {
        "id": "i_zW4KDeGwmn"
      }
    },
    {
      "cell_type": "markdown",
      "source": [
        "### Дані"
      ],
      "metadata": {
        "id": "9BprAbseoYri"
      }
    },
    {
      "cell_type": "code",
      "source": [
        "foods = {\n",
        "  \"pizza\": {\"cost\": 50, \"calories\": 300},\n",
        "  \"hamburger\": {\"cost\": 40, \"calories\": 250},\n",
        "  \"hot-dog\": {\"cost\": 30, \"calories\": 200},\n",
        "  \"pepsi\": {\"cost\": 10, \"calories\": 100},\n",
        "  \"cola\": {\"cost\": 15, \"calories\": 220},\n",
        "  \"potato\": {\"cost\": 25, \"calories\": 350}\n",
        "}\n"
      ],
      "metadata": {
        "id": "QYAWoHHaG2EL"
      },
      "execution_count": 297,
      "outputs": []
    },
    {
      "cell_type": "code",
      "source": [
        "class Item:\n",
        "    def __init__(self, name, calories, cost):\n",
        "        self.name = name\n",
        "        self.calories = calories\n",
        "        self.cost = cost\n",
        "        self.ratio = calories / cost\n",
        "\n",
        "    def __repr__(self):\n",
        "      return f\"Item(name={self.name}, ratio={self.ratio:.04}, calories={self.calories}, cost={self.cost})\""
      ],
      "metadata": {
        "id": "3CzX47b1sMeW"
      },
      "execution_count": 298,
      "outputs": []
    },
    {
      "cell_type": "markdown",
      "source": [
        "### Жадібний алгоритм\n"
      ],
      "metadata": {
        "id": "XPUHy9rwocM6"
      }
    },
    {
      "cell_type": "code",
      "source": [
        "def greedy_algorithm(data, budget):\n",
        "\n",
        "  items = [Item(k, v[\"calories\"], v[\"cost\"]) for k, v in data.items()]\n",
        "  if not len(items):\n",
        "    raise ValueError(\"List is empty\")\n",
        "\n",
        "  items.sort(key=lambda x: x.ratio)\n",
        "  #print(items)\n",
        "\n",
        "  item = items.pop()\n",
        "  total_cost = 0\n",
        "  total_calories = 0\n",
        "  result = []\n",
        "  while (total_cost + item.cost) < budget:\n",
        "    result += [item]\n",
        "    total_cost += item.cost\n",
        "    total_calories += item.calories\n",
        "    item = items.pop()\n",
        "\n",
        "  return result, total_cost, total_calories"
      ],
      "metadata": {
        "id": "cl_Esj7po6Bz"
      },
      "execution_count": 299,
      "outputs": []
    },
    {
      "cell_type": "code",
      "source": [
        "greedy_algorithm(foods, 100)"
      ],
      "metadata": {
        "colab": {
          "base_uri": "https://localhost:8080/"
        },
        "id": "dESE0SlHxN6T",
        "outputId": "c9b57cbd-f0e7-4abc-a4be-bb74f7eae020"
      },
      "execution_count": 300,
      "outputs": [
        {
          "output_type": "execute_result",
          "data": {
            "text/plain": [
              "([Item(name=cola, ratio=14.67, calories=220, cost=15),\n",
              "  Item(name=potato, ratio=14.0, calories=350, cost=25),\n",
              "  Item(name=pepsi, ratio=10.0, calories=100, cost=10),\n",
              "  Item(name=hot-dog, ratio=6.667, calories=200, cost=30)],\n",
              " 80,\n",
              " 870)"
            ]
          },
          "metadata": {},
          "execution_count": 300
        }
      ]
    },
    {
      "cell_type": "markdown",
      "source": [
        "### Алгоритм динамічного програмування"
      ],
      "metadata": {
        "id": "jAZKhD1S1RT6"
      }
    },
    {
      "cell_type": "markdown",
      "source": [
        "Класична реалізація через таблицю у вигляді масиву. Вона показує калорійність кращого набору, але не показує сам набір. Хочу переробити на словник замість масиву з видачою кращого набору."
      ],
      "metadata": {
        "id": "oiRlODfDFR_S"
      }
    },
    {
      "cell_type": "code",
      "source": [
        "def dynamic_programming(data, budget):\n",
        "\n",
        "  items = [Item(k, v[\"calories\"], v[\"cost\"]) for k, v in data.items()]\n",
        "  n = len(items)\n",
        "\n",
        "  K = [[0 for _ in range(budget + 1)] for _ in range(n + 1)]\n",
        "\n",
        "  for i in range(n + 1):\n",
        "    for c in range(budget + 1):\n",
        "      if i == 0 or c == 0:\n",
        "        K[i][c] = 0\n",
        "      elif items[i - 1].cost <= c:\n",
        "        K[i][c] = max(items[i - 1].calories + K[i - 1][c - items[i - 1].cost], K[i - 1][c])\n",
        "      else:\n",
        "        K[i][c] = K[i - 1][c]\n",
        "\n",
        "  return K[n][budget]"
      ],
      "metadata": {
        "id": "JTY8Pw941fA_"
      },
      "execution_count": 301,
      "outputs": []
    },
    {
      "cell_type": "code",
      "source": [
        "dynamic_programming(foods, 100)"
      ],
      "metadata": {
        "id": "2YtFvFgzHGh-",
        "colab": {
          "base_uri": "https://localhost:8080/"
        },
        "outputId": "3809b058-ea6a-4f2b-f3ca-359c22ad67db"
      },
      "execution_count": 302,
      "outputs": [
        {
          "output_type": "execute_result",
          "data": {
            "text/plain": [
              "970"
            ]
          },
          "metadata": {},
          "execution_count": 302
        }
      ]
    },
    {
      "cell_type": "markdown",
      "source": [
        "Кращий, на мій погляд, варіант зі словником та формуванням набору. Трохи складніший, але логічніший."
      ],
      "metadata": {
        "id": "Ya-hq4icF2UP"
      }
    },
    {
      "cell_type": "code",
      "source": [
        "def dynamic_programming_dict(data, budget):\n",
        "    items = [Item(k, v[\"calories\"], v[\"cost\"]) for k, v in data.items()]\n",
        "    n = len(items)\n",
        "\n",
        "    # Словник для зберігання максимальної калорійності\n",
        "    # Ключ: (індекс предмета, поточний_бюджет)\n",
        "    # Значення: максимальна калорійність\n",
        "    dp = {}\n",
        "\n",
        "    def solve(index, current_budget):\n",
        "        # Базовий випадок: якщо немає предметів або бюджет вичерпано\n",
        "        if index == -1 or current_budget == 0:\n",
        "            return 0\n",
        "\n",
        "        # Перевірка, чи вже обчислено значення\n",
        "        if (index, current_budget) in dp:\n",
        "            return dp[(index, current_budget)]\n",
        "\n",
        "        item = items[index]\n",
        "        item_name = item.name\n",
        "        cost = item.cost\n",
        "        calories = item.calories\n",
        "\n",
        "        # Варіант 1: не беремо поточний предмет\n",
        "        exclude_calories = solve(index - 1, current_budget)\n",
        "\n",
        "        # Варіант 2: беремо поточний предмет, якщо він поміщається\n",
        "        if cost <= current_budget:\n",
        "            include_calories = calories + solve(index - 1, current_budget - cost)\n",
        "            dp[(index, current_budget)] = max(include_calories, exclude_calories)\n",
        "        else:\n",
        "            dp[(index, current_budget)] = exclude_calories\n",
        "\n",
        "        return dp[(index, current_budget)]\n",
        "\n",
        "    # Викликаємо рекурсивну функцію для заповнення словника dp\n",
        "    max_calories = solve(n - 1, budget)\n",
        "\n",
        "    # Відновлення найкращого набору продуктів\n",
        "    best_set = []\n",
        "    current_index = n - 1\n",
        "    current_budget = budget\n",
        "\n",
        "    while current_index >= 0 and current_budget > 0:\n",
        "\n",
        "        item = items[current_index]\n",
        "        item_name = item.name\n",
        "        cost = item.cost\n",
        "        calories = item.calories\n",
        "\n",
        "        # Порівняння значень, щоб визначити, чи був взятий предмет\n",
        "        # Калорійність без поточного предмета\n",
        "        calories_without_item = dp.get((current_index - 1, current_budget), 0)\n",
        "\n",
        "        # Калорійність з поточним предметом (якщо він поміщається)\n",
        "        if cost <= current_budget:\n",
        "            calories_with_item = calories + dp.get((current_index - 1, current_budget - cost), 0)\n",
        "        else:\n",
        "            calories_with_item = -1 # Неможливо взяти\n",
        "\n",
        "        # Якщо поточний результат більший, ніж без предмета, значить ми його взяли\n",
        "        if dp[(current_index, current_budget)] == calories_with_item and calories_with_item > calories_without_item:\n",
        "            best_set.append(item)\n",
        "            current_budget -= cost\n",
        "\n",
        "        current_index -= 1\n",
        "\n",
        "    return max_calories, best_set[::-1]"
      ],
      "metadata": {
        "id": "9sPwJPwSBGte"
      },
      "execution_count": 303,
      "outputs": []
    },
    {
      "cell_type": "code",
      "source": [
        "dynamic_programming_dict(foods, 100)"
      ],
      "metadata": {
        "colab": {
          "base_uri": "https://localhost:8080/"
        },
        "id": "_t4uqP0bBfjq",
        "outputId": "2378516b-683c-4ce6-acf8-4507c691cb6e"
      },
      "execution_count": 304,
      "outputs": [
        {
          "output_type": "execute_result",
          "data": {
            "text/plain": [
              "(970,\n",
              " [Item(name=pizza, ratio=6.0, calories=300, cost=50),\n",
              "  Item(name=pepsi, ratio=10.0, calories=100, cost=10),\n",
              "  Item(name=cola, ratio=14.67, calories=220, cost=15),\n",
              "  Item(name=potato, ratio=14.0, calories=350, cost=25)])"
            ]
          },
          "metadata": {},
          "execution_count": 304
        }
      ]
    },
    {
      "cell_type": "markdown",
      "source": [
        "### Висновок"
      ],
      "metadata": {
        "id": "p69WNSbMHLQX"
      }
    },
    {
      "cell_type": "markdown",
      "source": [
        "На запропонованих даних жадібний алгоритм повертає локальний оптимум (870), а алгоритм динамічного програмування - голобальний (970)."
      ],
      "metadata": {
        "id": "_Tm0xI2rHOUF"
      }
    },
    {
      "cell_type": "markdown",
      "source": [
        "## Завдання 7. Використання методу Монте-Карло"
      ],
      "metadata": {
        "id": "HXUIQlhYG42f"
      }
    },
    {
      "cell_type": "markdown",
      "source": [
        "### Функція симуляції кидання кубиків"
      ],
      "metadata": {
        "id": "Rn1bkptzXbfP"
      }
    },
    {
      "cell_type": "code",
      "source": [
        "import numpy as np\n",
        "\n",
        "def rolling_dices(n):\n",
        "\n",
        "  result = np.zeros(13)\n",
        "\n",
        "  for _ in range(n):\n",
        "    dice1 = random.randint(1, 6)\n",
        "    dice2 = random.randint(1, 6)\n",
        "\n",
        "    result[dice1+dice2] += 1\n",
        "\n",
        "  return result/n"
      ],
      "metadata": {
        "id": "vljFKlAbH9oQ"
      },
      "execution_count": 305,
      "outputs": []
    },
    {
      "cell_type": "markdown",
      "source": [
        "### Експеримент та аналіз результатів"
      ],
      "metadata": {
        "id": "JnjrgeV-Xmv1"
      }
    },
    {
      "cell_type": "code",
      "source": [
        "n=10000\n",
        "y = rolling_dices(n)[2:]\n",
        "x = range(2, 13)\n",
        "t = list(range(1, 6))\n",
        "t.append(6)\n",
        "t.extend(range(5, 0, -1))"
      ],
      "metadata": {
        "id": "hUzzOMvQOPOk"
      },
      "execution_count": 306,
      "outputs": []
    },
    {
      "cell_type": "code",
      "source": [
        "import pandas as pd"
      ],
      "metadata": {
        "id": "J-yFM7TYN4Me"
      },
      "execution_count": 307,
      "outputs": []
    },
    {
      "cell_type": "code",
      "source": [
        "df = pd.DataFrame({\n",
        " \"Факт\": y,\n",
        " \"Теорія\": np.array(t)/36\n",
        "})\n",
        "df"
      ],
      "metadata": {
        "colab": {
          "base_uri": "https://localhost:8080/",
          "height": 394
        },
        "id": "kYCNR0RYN8F7",
        "outputId": "95398456-f79f-4d96-ca6d-aac24530f491"
      },
      "execution_count": 308,
      "outputs": [
        {
          "output_type": "execute_result",
          "data": {
            "text/plain": [
              "      Факт    Теорія\n",
              "0   0.0272  0.027778\n",
              "1   0.0563  0.055556\n",
              "2   0.0862  0.083333\n",
              "3   0.1120  0.111111\n",
              "4   0.1411  0.138889\n",
              "5   0.1647  0.166667\n",
              "6   0.1340  0.138889\n",
              "7   0.1127  0.111111\n",
              "8   0.0828  0.083333\n",
              "9   0.0542  0.055556\n",
              "10  0.0288  0.027778"
            ],
            "text/html": [
              "\n",
              "  <div id=\"df-5a850159-179f-46b3-86e2-815a98690981\" class=\"colab-df-container\">\n",
              "    <div>\n",
              "<style scoped>\n",
              "    .dataframe tbody tr th:only-of-type {\n",
              "        vertical-align: middle;\n",
              "    }\n",
              "\n",
              "    .dataframe tbody tr th {\n",
              "        vertical-align: top;\n",
              "    }\n",
              "\n",
              "    .dataframe thead th {\n",
              "        text-align: right;\n",
              "    }\n",
              "</style>\n",
              "<table border=\"1\" class=\"dataframe\">\n",
              "  <thead>\n",
              "    <tr style=\"text-align: right;\">\n",
              "      <th></th>\n",
              "      <th>Факт</th>\n",
              "      <th>Теорія</th>\n",
              "    </tr>\n",
              "  </thead>\n",
              "  <tbody>\n",
              "    <tr>\n",
              "      <th>0</th>\n",
              "      <td>0.0272</td>\n",
              "      <td>0.027778</td>\n",
              "    </tr>\n",
              "    <tr>\n",
              "      <th>1</th>\n",
              "      <td>0.0563</td>\n",
              "      <td>0.055556</td>\n",
              "    </tr>\n",
              "    <tr>\n",
              "      <th>2</th>\n",
              "      <td>0.0862</td>\n",
              "      <td>0.083333</td>\n",
              "    </tr>\n",
              "    <tr>\n",
              "      <th>3</th>\n",
              "      <td>0.1120</td>\n",
              "      <td>0.111111</td>\n",
              "    </tr>\n",
              "    <tr>\n",
              "      <th>4</th>\n",
              "      <td>0.1411</td>\n",
              "      <td>0.138889</td>\n",
              "    </tr>\n",
              "    <tr>\n",
              "      <th>5</th>\n",
              "      <td>0.1647</td>\n",
              "      <td>0.166667</td>\n",
              "    </tr>\n",
              "    <tr>\n",
              "      <th>6</th>\n",
              "      <td>0.1340</td>\n",
              "      <td>0.138889</td>\n",
              "    </tr>\n",
              "    <tr>\n",
              "      <th>7</th>\n",
              "      <td>0.1127</td>\n",
              "      <td>0.111111</td>\n",
              "    </tr>\n",
              "    <tr>\n",
              "      <th>8</th>\n",
              "      <td>0.0828</td>\n",
              "      <td>0.083333</td>\n",
              "    </tr>\n",
              "    <tr>\n",
              "      <th>9</th>\n",
              "      <td>0.0542</td>\n",
              "      <td>0.055556</td>\n",
              "    </tr>\n",
              "    <tr>\n",
              "      <th>10</th>\n",
              "      <td>0.0288</td>\n",
              "      <td>0.027778</td>\n",
              "    </tr>\n",
              "  </tbody>\n",
              "</table>\n",
              "</div>\n",
              "    <div class=\"colab-df-buttons\">\n",
              "\n",
              "  <div class=\"colab-df-container\">\n",
              "    <button class=\"colab-df-convert\" onclick=\"convertToInteractive('df-5a850159-179f-46b3-86e2-815a98690981')\"\n",
              "            title=\"Convert this dataframe to an interactive table.\"\n",
              "            style=\"display:none;\">\n",
              "\n",
              "  <svg xmlns=\"http://www.w3.org/2000/svg\" height=\"24px\" viewBox=\"0 -960 960 960\">\n",
              "    <path d=\"M120-120v-720h720v720H120Zm60-500h600v-160H180v160Zm220 220h160v-160H400v160Zm0 220h160v-160H400v160ZM180-400h160v-160H180v160Zm440 0h160v-160H620v160ZM180-180h160v-160H180v160Zm440 0h160v-160H620v160Z\"/>\n",
              "  </svg>\n",
              "    </button>\n",
              "\n",
              "  <style>\n",
              "    .colab-df-container {\n",
              "      display:flex;\n",
              "      gap: 12px;\n",
              "    }\n",
              "\n",
              "    .colab-df-convert {\n",
              "      background-color: #E8F0FE;\n",
              "      border: none;\n",
              "      border-radius: 50%;\n",
              "      cursor: pointer;\n",
              "      display: none;\n",
              "      fill: #1967D2;\n",
              "      height: 32px;\n",
              "      padding: 0 0 0 0;\n",
              "      width: 32px;\n",
              "    }\n",
              "\n",
              "    .colab-df-convert:hover {\n",
              "      background-color: #E2EBFA;\n",
              "      box-shadow: 0px 1px 2px rgba(60, 64, 67, 0.3), 0px 1px 3px 1px rgba(60, 64, 67, 0.15);\n",
              "      fill: #174EA6;\n",
              "    }\n",
              "\n",
              "    .colab-df-buttons div {\n",
              "      margin-bottom: 4px;\n",
              "    }\n",
              "\n",
              "    [theme=dark] .colab-df-convert {\n",
              "      background-color: #3B4455;\n",
              "      fill: #D2E3FC;\n",
              "    }\n",
              "\n",
              "    [theme=dark] .colab-df-convert:hover {\n",
              "      background-color: #434B5C;\n",
              "      box-shadow: 0px 1px 3px 1px rgba(0, 0, 0, 0.15);\n",
              "      filter: drop-shadow(0px 1px 2px rgba(0, 0, 0, 0.3));\n",
              "      fill: #FFFFFF;\n",
              "    }\n",
              "  </style>\n",
              "\n",
              "    <script>\n",
              "      const buttonEl =\n",
              "        document.querySelector('#df-5a850159-179f-46b3-86e2-815a98690981 button.colab-df-convert');\n",
              "      buttonEl.style.display =\n",
              "        google.colab.kernel.accessAllowed ? 'block' : 'none';\n",
              "\n",
              "      async function convertToInteractive(key) {\n",
              "        const element = document.querySelector('#df-5a850159-179f-46b3-86e2-815a98690981');\n",
              "        const dataTable =\n",
              "          await google.colab.kernel.invokeFunction('convertToInteractive',\n",
              "                                                    [key], {});\n",
              "        if (!dataTable) return;\n",
              "\n",
              "        const docLinkHtml = 'Like what you see? Visit the ' +\n",
              "          '<a target=\"_blank\" href=https://colab.research.google.com/notebooks/data_table.ipynb>data table notebook</a>'\n",
              "          + ' to learn more about interactive tables.';\n",
              "        element.innerHTML = '';\n",
              "        dataTable['output_type'] = 'display_data';\n",
              "        await google.colab.output.renderOutput(dataTable, element);\n",
              "        const docLink = document.createElement('div');\n",
              "        docLink.innerHTML = docLinkHtml;\n",
              "        element.appendChild(docLink);\n",
              "      }\n",
              "    </script>\n",
              "  </div>\n",
              "\n",
              "\n",
              "    <div id=\"df-c4531142-62e2-4306-b12f-99ba10da9383\">\n",
              "      <button class=\"colab-df-quickchart\" onclick=\"quickchart('df-c4531142-62e2-4306-b12f-99ba10da9383')\"\n",
              "                title=\"Suggest charts\"\n",
              "                style=\"display:none;\">\n",
              "\n",
              "<svg xmlns=\"http://www.w3.org/2000/svg\" height=\"24px\"viewBox=\"0 0 24 24\"\n",
              "     width=\"24px\">\n",
              "    <g>\n",
              "        <path d=\"M19 3H5c-1.1 0-2 .9-2 2v14c0 1.1.9 2 2 2h14c1.1 0 2-.9 2-2V5c0-1.1-.9-2-2-2zM9 17H7v-7h2v7zm4 0h-2V7h2v10zm4 0h-2v-4h2v4z\"/>\n",
              "    </g>\n",
              "</svg>\n",
              "      </button>\n",
              "\n",
              "<style>\n",
              "  .colab-df-quickchart {\n",
              "      --bg-color: #E8F0FE;\n",
              "      --fill-color: #1967D2;\n",
              "      --hover-bg-color: #E2EBFA;\n",
              "      --hover-fill-color: #174EA6;\n",
              "      --disabled-fill-color: #AAA;\n",
              "      --disabled-bg-color: #DDD;\n",
              "  }\n",
              "\n",
              "  [theme=dark] .colab-df-quickchart {\n",
              "      --bg-color: #3B4455;\n",
              "      --fill-color: #D2E3FC;\n",
              "      --hover-bg-color: #434B5C;\n",
              "      --hover-fill-color: #FFFFFF;\n",
              "      --disabled-bg-color: #3B4455;\n",
              "      --disabled-fill-color: #666;\n",
              "  }\n",
              "\n",
              "  .colab-df-quickchart {\n",
              "    background-color: var(--bg-color);\n",
              "    border: none;\n",
              "    border-radius: 50%;\n",
              "    cursor: pointer;\n",
              "    display: none;\n",
              "    fill: var(--fill-color);\n",
              "    height: 32px;\n",
              "    padding: 0;\n",
              "    width: 32px;\n",
              "  }\n",
              "\n",
              "  .colab-df-quickchart:hover {\n",
              "    background-color: var(--hover-bg-color);\n",
              "    box-shadow: 0 1px 2px rgba(60, 64, 67, 0.3), 0 1px 3px 1px rgba(60, 64, 67, 0.15);\n",
              "    fill: var(--button-hover-fill-color);\n",
              "  }\n",
              "\n",
              "  .colab-df-quickchart-complete:disabled,\n",
              "  .colab-df-quickchart-complete:disabled:hover {\n",
              "    background-color: var(--disabled-bg-color);\n",
              "    fill: var(--disabled-fill-color);\n",
              "    box-shadow: none;\n",
              "  }\n",
              "\n",
              "  .colab-df-spinner {\n",
              "    border: 2px solid var(--fill-color);\n",
              "    border-color: transparent;\n",
              "    border-bottom-color: var(--fill-color);\n",
              "    animation:\n",
              "      spin 1s steps(1) infinite;\n",
              "  }\n",
              "\n",
              "  @keyframes spin {\n",
              "    0% {\n",
              "      border-color: transparent;\n",
              "      border-bottom-color: var(--fill-color);\n",
              "      border-left-color: var(--fill-color);\n",
              "    }\n",
              "    20% {\n",
              "      border-color: transparent;\n",
              "      border-left-color: var(--fill-color);\n",
              "      border-top-color: var(--fill-color);\n",
              "    }\n",
              "    30% {\n",
              "      border-color: transparent;\n",
              "      border-left-color: var(--fill-color);\n",
              "      border-top-color: var(--fill-color);\n",
              "      border-right-color: var(--fill-color);\n",
              "    }\n",
              "    40% {\n",
              "      border-color: transparent;\n",
              "      border-right-color: var(--fill-color);\n",
              "      border-top-color: var(--fill-color);\n",
              "    }\n",
              "    60% {\n",
              "      border-color: transparent;\n",
              "      border-right-color: var(--fill-color);\n",
              "    }\n",
              "    80% {\n",
              "      border-color: transparent;\n",
              "      border-right-color: var(--fill-color);\n",
              "      border-bottom-color: var(--fill-color);\n",
              "    }\n",
              "    90% {\n",
              "      border-color: transparent;\n",
              "      border-bottom-color: var(--fill-color);\n",
              "    }\n",
              "  }\n",
              "</style>\n",
              "\n",
              "      <script>\n",
              "        async function quickchart(key) {\n",
              "          const quickchartButtonEl =\n",
              "            document.querySelector('#' + key + ' button');\n",
              "          quickchartButtonEl.disabled = true;  // To prevent multiple clicks.\n",
              "          quickchartButtonEl.classList.add('colab-df-spinner');\n",
              "          try {\n",
              "            const charts = await google.colab.kernel.invokeFunction(\n",
              "                'suggestCharts', [key], {});\n",
              "          } catch (error) {\n",
              "            console.error('Error during call to suggestCharts:', error);\n",
              "          }\n",
              "          quickchartButtonEl.classList.remove('colab-df-spinner');\n",
              "          quickchartButtonEl.classList.add('colab-df-quickchart-complete');\n",
              "        }\n",
              "        (() => {\n",
              "          let quickchartButtonEl =\n",
              "            document.querySelector('#df-c4531142-62e2-4306-b12f-99ba10da9383 button');\n",
              "          quickchartButtonEl.style.display =\n",
              "            google.colab.kernel.accessAllowed ? 'block' : 'none';\n",
              "        })();\n",
              "      </script>\n",
              "    </div>\n",
              "    </div>\n",
              "  </div>\n"
            ],
            "application/vnd.google.colaboratory.intrinsic+json": {
              "type": "dataframe",
              "variable_name": "df",
              "summary": "{\n  \"name\": \"df\",\n  \"rows\": 11,\n  \"fields\": [\n    {\n      \"column\": \"\\u0424\\u0430\\u043a\\u0442\",\n      \"properties\": {\n        \"dtype\": \"number\",\n        \"std\": 0.046141509610012864,\n        \"min\": 0.0272,\n        \"max\": 0.1647,\n        \"num_unique_values\": 11,\n        \"samples\": [\n          0.1647,\n          0.0272,\n          0.0542\n        ],\n        \"semantic_type\": \"\",\n        \"description\": \"\"\n      }\n    },\n    {\n      \"column\": \"\\u0422\\u0435\\u043e\\u0440\\u0456\\u044f\",\n      \"properties\": {\n        \"dtype\": \"number\",\n        \"std\": 0.0466317810924732,\n        \"min\": 0.027777777777777776,\n        \"max\": 0.16666666666666666,\n        \"num_unique_values\": 6,\n        \"samples\": [\n          0.027777777777777776,\n          0.05555555555555555,\n          0.16666666666666666\n        ],\n        \"semantic_type\": \"\",\n        \"description\": \"\"\n      }\n    }\n  ]\n}"
            }
          },
          "metadata": {},
          "execution_count": 308
        }
      ]
    },
    {
      "cell_type": "code",
      "source": [
        "\n",
        "plt.scatter(x, df['Факт'], label='Факт')\n",
        "plt.scatter(x, df['Теорія'], label='Теорія')\n",
        "plt.legend()\n",
        "plt.show()"
      ],
      "metadata": {
        "colab": {
          "base_uri": "https://localhost:8080/",
          "height": 430
        },
        "id": "faYZ_lE-JHRp",
        "outputId": "16c69233-e4e8-4f1a-d054-578a38ed760f"
      },
      "execution_count": 309,
      "outputs": [
        {
          "output_type": "display_data",
          "data": {
            "text/plain": [
              "<Figure size 640x480 with 1 Axes>"
            ],
            "image/png": "[encoded data removed]"
          },
          "metadata": {}
        }
      ]
    },
    {
      "cell_type": "markdown",
      "source": [
        "### Висновок"
      ],
      "metadata": {
        "id": "wzh5ZJxVTgQS"
      }
    },
    {
      "cell_type": "markdown",
      "source": [
        "При достаній кількості експериментів фактичні дані наближаються до теоретичних"
      ],
      "metadata": {
        "id": "JaFBaStaTiC7"
      }
    }
  ]
}